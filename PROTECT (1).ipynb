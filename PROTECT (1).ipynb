{
 "cells": [
  {
   "cell_type": "code",
   "execution_count": 1,
   "id": "69e86602-412d-4934-bec1-76f5df334eb7",
   "metadata": {},
   "outputs": [
    {
     "name": "stderr",
     "output_type": "stream",
     "text": [
      "[nltk_data] Downloading package punkt to\n",
      "[nltk_data]     C:\\Users\\sunny\\AppData\\Roaming\\nltk_data...\n",
      "[nltk_data]   Package punkt is already up-to-date!\n"
     ]
    }
   ],
   "source": [
    "import pandas as pd\n",
    "import multiprocessing\n",
    "pd.set_option('display.max_colwidth', None)\n",
    "import re\n",
    "import os\n",
    "os.chdir(r'D:\\Хакатон')\n",
    "import nltk\n",
    "import string\n",
    "from nltk.corpus import stopwords\n",
    "from nltk.tokenize import word_tokenize\n",
    "from nltk.stem import SnowballStemmer\n",
    "nltk.download('punkt')\n",
    "from sklearn.pipeline import Pipeline\n",
    "from sklearn.linear_model import LogisticRegression\n",
    "from sklearn.feature_extraction.text import TfidfVectorizer\n",
    "from sklearn.metrics import precision_score, recall_score, precision_recall_curve\n",
    "from matplotlib import pyplot as plt\n",
    "import numpy as np\n",
    "from sklearn.model_selection import GridSearchCV\n",
    "from sklearn.model_selection import train_test_split\n",
    "from sklearn.metrics import accuracy_score\n"
   ]
  },
  {
   "cell_type": "code",
   "execution_count": 2,
   "id": "18d61b37-a129-4fe5-ae0e-0c31bcdfe7f8",
   "metadata": {},
   "outputs": [],
   "source": [
    "df = pd.read_excel(\"ИКРБС_2020-2024_гг..xlsx\")"
   ]
  },
  {
   "cell_type": "code",
   "execution_count": 3,
   "id": "812c744a-7ba5-4436-81ad-ff62d6e13fee",
   "metadata": {},
   "outputs": [],
   "source": [
    "df.fillna('Отсутствует', inplace=True)"
   ]
  },
  {
   "cell_type": "code",
   "execution_count": 4,
   "id": "91e65c31-abb8-46cb-9ace-8a518e64dd07",
   "metadata": {},
   "outputs": [],
   "source": [
    "df.drop([\"№ п/п\", \"Регистрационный номер\"],axis=1,inplace=True)"
   ]
  },
  {
   "cell_type": "code",
   "execution_count": 5,
   "id": "32bf3e2f-74da-4ebb-b63c-6d202ebe6607",
   "metadata": {},
   "outputs": [],
   "source": [
    "df['text_data'] = df['Наименование отчёта'] + ' ' + df['Реферативное описание отчета'] + ' ' + df['Ключевые слова']\n",
    "\n"
   ]
  },
  {
   "cell_type": "code",
   "execution_count": 6,
   "id": "12d9c153-2b4b-43ba-8091-22bb6da37355",
   "metadata": {},
   "outputs": [],
   "source": [
    "train_df, test_df = train_test_split(df, test_size=300, train_size=300)"
   ]
  },
  {
   "cell_type": "code",
   "execution_count": 7,
   "id": "7477af2c-bfd5-4296-a8d4-2ae28530caea",
   "metadata": {},
   "outputs": [],
   "source": [
    "sentence_example = df.iloc[1][\"text_data\"]\n",
    "tokens = word_tokenize(sentence_example, language=\"russian\")\n",
    "tokens_without_punctuation = [i for i in tokens if i not in string.punctuation]\n",
    "russian_stop_words = stopwords.words(\"russian\")\n",
    "tokens_without_stop_words_and_punctuation = [i for i in tokens_without_punctuation if i not in russian_stop_words]\n",
    "snowball = SnowballStemmer(language=\"russian\")\n",
    "stemmed_tokens = [snowball.stem(i) for i in tokens_without_stop_words_and_punctuation]\n"
   ]
  },
  {
   "cell_type": "code",
   "execution_count": 8,
   "id": "66213934-a66c-4a81-83cf-ec445a446f6f",
   "metadata": {},
   "outputs": [
    {
     "name": "stdout",
     "output_type": "stream",
     "text": [
      "Исходный текст: Исследование технической возможности работы судовых дизелей на сырой нефти Якутского месторождения Определены некоторые свойства сырой нефти Якутского месторождения. Проведено сравнительное испытание показателей работы топливной аппаратуры на нефти и дизельном топливе. Проведены пуски дизеля 2Ч8,5/11 на дизельном топливе и нефти. Проведено сравнение процессов наброса нагрузки на дизеле 2Ч8,5/11, работающем на дизельном топливе и нефти, сняты нагрузочные характеристики дизеля. Сняты винтовые характеристики дизеля 6LI60PNS на дизельном топливе и нефти. ТОПЛИВНАЯ АППАРАТУРА; СУДОВЫЕ ДИЗЕЛИ; СЫРЫЕ НЕФТИ; ДИЗЕЛЬНЫЕ ТОПЛИВА;\n",
      "-----------------\n",
      "Токены: ['Исследование', 'технической', 'возможности', 'работы', 'судовых', 'дизелей', 'на', 'сырой', 'нефти', 'Якутского', 'месторождения', 'Определены', 'некоторые', 'свойства', 'сырой', 'нефти', 'Якутского', 'месторождения', '.', 'Проведено', 'сравнительное', 'испытание', 'показателей', 'работы', 'топливной', 'аппаратуры', 'на', 'нефти', 'и', 'дизельном', 'топливе', '.', 'Проведены', 'пуски', 'дизеля', '2Ч8,5/11', 'на', 'дизельном', 'топливе', 'и', 'нефти', '.', 'Проведено', 'сравнение', 'процессов', 'наброса', 'нагрузки', 'на', 'дизеле', '2Ч8,5/11', ',', 'работающем', 'на', 'дизельном', 'топливе', 'и', 'нефти', ',', 'сняты', 'нагрузочные', 'характеристики', 'дизеля', '.', 'Сняты', 'винтовые', 'характеристики', 'дизеля', '6LI60PNS', 'на', 'дизельном', 'топливе', 'и', 'нефти', '.', 'ТОПЛИВНАЯ', 'АППАРАТУРА', ';', 'СУДОВЫЕ', 'ДИЗЕЛИ', ';', 'СЫРЫЕ', 'НЕФТИ', ';', 'ДИЗЕЛЬНЫЕ', 'ТОПЛИВА', ';']\n",
      "-----------------\n",
      "Токены без пунктуации: ['Исследование', 'технической', 'возможности', 'работы', 'судовых', 'дизелей', 'на', 'сырой', 'нефти', 'Якутского', 'месторождения', 'Определены', 'некоторые', 'свойства', 'сырой', 'нефти', 'Якутского', 'месторождения', 'Проведено', 'сравнительное', 'испытание', 'показателей', 'работы', 'топливной', 'аппаратуры', 'на', 'нефти', 'и', 'дизельном', 'топливе', 'Проведены', 'пуски', 'дизеля', '2Ч8,5/11', 'на', 'дизельном', 'топливе', 'и', 'нефти', 'Проведено', 'сравнение', 'процессов', 'наброса', 'нагрузки', 'на', 'дизеле', '2Ч8,5/11', 'работающем', 'на', 'дизельном', 'топливе', 'и', 'нефти', 'сняты', 'нагрузочные', 'характеристики', 'дизеля', 'Сняты', 'винтовые', 'характеристики', 'дизеля', '6LI60PNS', 'на', 'дизельном', 'топливе', 'и', 'нефти', 'ТОПЛИВНАЯ', 'АППАРАТУРА', 'СУДОВЫЕ', 'ДИЗЕЛИ', 'СЫРЫЕ', 'НЕФТИ', 'ДИЗЕЛЬНЫЕ', 'ТОПЛИВА']\n",
      "-----------------\n",
      "Токены без пунктуации и стоп слов: ['Исследование', 'технической', 'возможности', 'работы', 'судовых', 'дизелей', 'сырой', 'нефти', 'Якутского', 'месторождения', 'Определены', 'некоторые', 'свойства', 'сырой', 'нефти', 'Якутского', 'месторождения', 'Проведено', 'сравнительное', 'испытание', 'показателей', 'работы', 'топливной', 'аппаратуры', 'нефти', 'дизельном', 'топливе', 'Проведены', 'пуски', 'дизеля', '2Ч8,5/11', 'дизельном', 'топливе', 'нефти', 'Проведено', 'сравнение', 'процессов', 'наброса', 'нагрузки', 'дизеле', '2Ч8,5/11', 'работающем', 'дизельном', 'топливе', 'нефти', 'сняты', 'нагрузочные', 'характеристики', 'дизеля', 'Сняты', 'винтовые', 'характеристики', 'дизеля', '6LI60PNS', 'дизельном', 'топливе', 'нефти', 'ТОПЛИВНАЯ', 'АППАРАТУРА', 'СУДОВЫЕ', 'ДИЗЕЛИ', 'СЫРЫЕ', 'НЕФТИ', 'ДИЗЕЛЬНЫЕ', 'ТОПЛИВА']\n",
      "-----------------\n",
      "Токены после стемминга: ['исследован', 'техническ', 'возможн', 'работ', 'судов', 'дизел', 'сыр', 'нефт', 'якутск', 'месторожден', 'определ', 'некотор', 'свойств', 'сыр', 'нефт', 'якутск', 'месторожден', 'провед', 'сравнительн', 'испытан', 'показател', 'работ', 'топливн', 'аппаратур', 'нефт', 'дизельн', 'топлив', 'провед', 'пуск', 'дизел', '2ч8,5/11', 'дизельн', 'топлив', 'нефт', 'провед', 'сравнен', 'процесс', 'наброс', 'нагрузк', 'дизел', '2ч8,5/11', 'работа', 'дизельн', 'топлив', 'нефт', 'снят', 'нагрузочн', 'характеристик', 'дизел', 'снят', 'винтов', 'характеристик', 'дизел', '6LI60PNS', 'дизельн', 'топлив', 'нефт', 'топливн', 'аппаратур', 'судов', 'дизел', 'сыр', 'нефт', 'дизельн', 'топлив']\n",
      "-----------------\n"
     ]
    }
   ],
   "source": [
    "print(f\"Исходный текст: {sentence_example}\")\n",
    "print(\"-----------------\")\n",
    "print(f\"Токены: {tokens}\")\n",
    "print(\"-----------------\")\n",
    "print(f\"Токены без пунктуации: {tokens_without_punctuation}\")\n",
    "print(\"-----------------\")\n",
    "print(f\"Токены без пунктуации и стоп слов: {tokens_without_stop_words_and_punctuation}\")\n",
    "print(\"-----------------\")\n",
    "print(f\"Токены после стемминга: {stemmed_tokens}\")\n",
    "print(\"-----------------\")"
   ]
  },
  {
   "cell_type": "code",
   "execution_count": 9,
   "id": "6ac861a3-59ae-4fad-91ad-e90e38ced950",
   "metadata": {},
   "outputs": [],
   "source": [
    "snowball = SnowballStemmer(language=\"russian\")\n",
    "russian_stop_words = stopwords.words(\"russian\")\n",
    "\n",
    "def tokenize_sentence(sentence: str, remove_stop_words: bool = True):\n",
    "    tokens = word_tokenize(sentence, language=\"russian\")\n",
    "    tokens = [i for i in tokens if i not in string.punctuation]\n",
    "    if remove_stop_words:\n",
    "        tokens = [i for i in tokens if i not in russian_stop_words]\n",
    "    tokens = [snowball.stem(i) for i in tokens]\n",
    "    return tokens"
   ]
  },
  {
   "cell_type": "code",
   "execution_count": 10,
   "id": "8ad5ea0e-c603-4705-9fbc-b3443be7d92d",
   "metadata": {},
   "outputs": [
    {
     "data": {
      "text/plain": [
       "['исследован',\n",
       " 'техническ',\n",
       " 'возможн',\n",
       " 'работ',\n",
       " 'судов',\n",
       " 'дизел',\n",
       " 'сыр',\n",
       " 'нефт',\n",
       " 'якутск',\n",
       " 'месторожден',\n",
       " 'определ',\n",
       " 'некотор',\n",
       " 'свойств',\n",
       " 'сыр',\n",
       " 'нефт',\n",
       " 'якутск',\n",
       " 'месторожден',\n",
       " 'провед',\n",
       " 'сравнительн',\n",
       " 'испытан',\n",
       " 'показател',\n",
       " 'работ',\n",
       " 'топливн',\n",
       " 'аппаратур',\n",
       " 'нефт',\n",
       " 'дизельн',\n",
       " 'топлив',\n",
       " 'провед',\n",
       " 'пуск',\n",
       " 'дизел',\n",
       " '2ч8,5/11',\n",
       " 'дизельн',\n",
       " 'топлив',\n",
       " 'нефт',\n",
       " 'провед',\n",
       " 'сравнен',\n",
       " 'процесс',\n",
       " 'наброс',\n",
       " 'нагрузк',\n",
       " 'дизел',\n",
       " '2ч8,5/11',\n",
       " 'работа',\n",
       " 'дизельн',\n",
       " 'топлив',\n",
       " 'нефт',\n",
       " 'снят',\n",
       " 'нагрузочн',\n",
       " 'характеристик',\n",
       " 'дизел',\n",
       " 'снят',\n",
       " 'винтов',\n",
       " 'характеристик',\n",
       " 'дизел',\n",
       " '6LI60PNS',\n",
       " 'дизельн',\n",
       " 'топлив',\n",
       " 'нефт',\n",
       " 'топливн',\n",
       " 'аппаратур',\n",
       " 'судов',\n",
       " 'дизел',\n",
       " 'сыр',\n",
       " 'нефт',\n",
       " 'дизельн',\n",
       " 'топлив']"
      ]
     },
     "execution_count": 10,
     "metadata": {},
     "output_type": "execute_result"
    }
   ],
   "source": [
    "tokenize_sentence(sentence_example)"
   ]
  },
  {
   "cell_type": "code",
   "execution_count": 11,
   "id": "e5297a08-7b54-4a3f-badd-148b6153246c",
   "metadata": {},
   "outputs": [],
   "source": [
    "vectorizer = TfidfVectorizer(tokenizer=lambda x: tokenize_sentence(x, remove_stop_words=True))"
   ]
  },
  {
   "cell_type": "code",
   "execution_count": 12,
   "id": "ff04b890-90c0-442d-9b86-6d31103e63c0",
   "metadata": {},
   "outputs": [
    {
     "name": "stderr",
     "output_type": "stream",
     "text": [
      "D:\\Jupiter\\Lib\\site-packages\\sklearn\\feature_extraction\\text.py:528: UserWarning: The parameter 'token_pattern' will not be used since 'tokenizer' is not None'\n",
      "  warnings.warn(\n"
     ]
    }
   ],
   "source": [
    "features = vectorizer.fit_transform(train_df[\"text_data\"])"
   ]
  },
  {
   "cell_type": "code",
   "execution_count": 13,
   "id": "9f6e1910-3d89-4506-bb55-3e73ab2c0c44",
   "metadata": {},
   "outputs": [],
   "source": [
    "X = features"
   ]
  },
  {
   "cell_type": "code",
   "execution_count": 14,
   "id": "b533ad9c-6f0a-4750-882a-bf3184d6bb2b",
   "metadata": {},
   "outputs": [],
   "source": [
    "y = df['ГРНТИ'][:300]"
   ]
  },
  {
   "cell_type": "code",
   "execution_count": 15,
   "id": "49c8e21f-398e-4761-a998-1c985bb76e79",
   "metadata": {},
   "outputs": [],
   "source": [
    "X_train, X_test, y_train, y_test = train_test_split(X, y, test_size=0.25)"
   ]
  },
  {
   "cell_type": "code",
   "execution_count": 16,
   "id": "0e290749-e500-452e-81e2-1149139dda35",
   "metadata": {},
   "outputs": [
    {
     "data": {
      "text/html": [
       "<style>#sk-container-id-1 {color: black;background-color: white;}#sk-container-id-1 pre{padding: 0;}#sk-container-id-1 div.sk-toggleable {background-color: white;}#sk-container-id-1 label.sk-toggleable__label {cursor: pointer;display: block;width: 100%;margin-bottom: 0;padding: 0.3em;box-sizing: border-box;text-align: center;}#sk-container-id-1 label.sk-toggleable__label-arrow:before {content: \"▸\";float: left;margin-right: 0.25em;color: #696969;}#sk-container-id-1 label.sk-toggleable__label-arrow:hover:before {color: black;}#sk-container-id-1 div.sk-estimator:hover label.sk-toggleable__label-arrow:before {color: black;}#sk-container-id-1 div.sk-toggleable__content {max-height: 0;max-width: 0;overflow: hidden;text-align: left;background-color: #f0f8ff;}#sk-container-id-1 div.sk-toggleable__content pre {margin: 0.2em;color: black;border-radius: 0.25em;background-color: #f0f8ff;}#sk-container-id-1 input.sk-toggleable__control:checked~div.sk-toggleable__content {max-height: 200px;max-width: 100%;overflow: auto;}#sk-container-id-1 input.sk-toggleable__control:checked~label.sk-toggleable__label-arrow:before {content: \"▾\";}#sk-container-id-1 div.sk-estimator input.sk-toggleable__control:checked~label.sk-toggleable__label {background-color: #d4ebff;}#sk-container-id-1 div.sk-label input.sk-toggleable__control:checked~label.sk-toggleable__label {background-color: #d4ebff;}#sk-container-id-1 input.sk-hidden--visually {border: 0;clip: rect(1px 1px 1px 1px);clip: rect(1px, 1px, 1px, 1px);height: 1px;margin: -1px;overflow: hidden;padding: 0;position: absolute;width: 1px;}#sk-container-id-1 div.sk-estimator {font-family: monospace;background-color: #f0f8ff;border: 1px dotted black;border-radius: 0.25em;box-sizing: border-box;margin-bottom: 0.5em;}#sk-container-id-1 div.sk-estimator:hover {background-color: #d4ebff;}#sk-container-id-1 div.sk-parallel-item::after {content: \"\";width: 100%;border-bottom: 1px solid gray;flex-grow: 1;}#sk-container-id-1 div.sk-label:hover label.sk-toggleable__label {background-color: #d4ebff;}#sk-container-id-1 div.sk-serial::before {content: \"\";position: absolute;border-left: 1px solid gray;box-sizing: border-box;top: 0;bottom: 0;left: 50%;z-index: 0;}#sk-container-id-1 div.sk-serial {display: flex;flex-direction: column;align-items: center;background-color: white;padding-right: 0.2em;padding-left: 0.2em;position: relative;}#sk-container-id-1 div.sk-item {position: relative;z-index: 1;}#sk-container-id-1 div.sk-parallel {display: flex;align-items: stretch;justify-content: center;background-color: white;position: relative;}#sk-container-id-1 div.sk-item::before, #sk-container-id-1 div.sk-parallel-item::before {content: \"\";position: absolute;border-left: 1px solid gray;box-sizing: border-box;top: 0;bottom: 0;left: 50%;z-index: -1;}#sk-container-id-1 div.sk-parallel-item {display: flex;flex-direction: column;z-index: 1;position: relative;background-color: white;}#sk-container-id-1 div.sk-parallel-item:first-child::after {align-self: flex-end;width: 50%;}#sk-container-id-1 div.sk-parallel-item:last-child::after {align-self: flex-start;width: 50%;}#sk-container-id-1 div.sk-parallel-item:only-child::after {width: 0;}#sk-container-id-1 div.sk-dashed-wrapped {border: 1px dashed gray;margin: 0 0.4em 0.5em 0.4em;box-sizing: border-box;padding-bottom: 0.4em;background-color: white;}#sk-container-id-1 div.sk-label label {font-family: monospace;font-weight: bold;display: inline-block;line-height: 1.2em;}#sk-container-id-1 div.sk-label-container {text-align: center;}#sk-container-id-1 div.sk-container {/* jupyter's `normalize.less` sets `[hidden] { display: none; }` but bootstrap.min.css set `[hidden] { display: none !important; }` so we also need the `!important` here to be able to override the default hidden behavior on the sphinx rendered scikit-learn.org. See: https://github.com/scikit-learn/scikit-learn/issues/21755 */display: inline-block !important;position: relative;}#sk-container-id-1 div.sk-text-repr-fallback {display: none;}</style><div id=\"sk-container-id-1\" class=\"sk-top-container\"><div class=\"sk-text-repr-fallback\"><pre>LogisticRegression()</pre><b>In a Jupyter environment, please rerun this cell to show the HTML representation or trust the notebook. <br />On GitHub, the HTML representation is unable to render, please try loading this page with nbviewer.org.</b></div><div class=\"sk-container\" hidden><div class=\"sk-item\"><div class=\"sk-estimator sk-toggleable\"><input class=\"sk-toggleable__control sk-hidden--visually\" id=\"sk-estimator-id-1\" type=\"checkbox\" checked><label for=\"sk-estimator-id-1\" class=\"sk-toggleable__label sk-toggleable__label-arrow\">LogisticRegression</label><div class=\"sk-toggleable__content\"><pre>LogisticRegression()</pre></div></div></div></div></div>"
      ],
      "text/plain": [
       "LogisticRegression()"
      ]
     },
     "execution_count": 16,
     "metadata": {},
     "output_type": "execute_result"
    }
   ],
   "source": [
    "model = LogisticRegression()\n",
    "model.fit(X_train, y_train)"
   ]
  },
  {
   "cell_type": "code",
   "execution_count": 17,
   "id": "6f9f0757-ba70-4156-9d28-ce4a366efcc2",
   "metadata": {},
   "outputs": [],
   "source": [
    "y_pred = model.predict(X_test)"
   ]
  },
  {
   "cell_type": "code",
   "execution_count": 18,
   "id": "124eb2b1-9c38-4850-b86a-755e5940e64d",
   "metadata": {},
   "outputs": [
    {
     "name": "stdout",
     "output_type": "stream",
     "text": [
      "Точность: 0.0\n"
     ]
    }
   ],
   "source": [
    "\n",
    "accuracy = accuracy_score(y_test, y_pred)\n",
    "print('Точность:', accuracy)"
   ]
  },
  {
   "cell_type": "code",
   "execution_count": 19,
   "id": "43e90816-e21b-4f95-9b92-2aef118780c3",
   "metadata": {},
   "outputs": [
    {
     "name": "stdout",
     "output_type": "stream",
     "text": [
      "Предсказанная рубрика ГРНТИ: ['12.09.09: История науки']\n"
     ]
    }
   ],
   "source": [
    "# Новый текст\n",
    "new_text = \"В данной работе рассматриваются новые методы обработки изображений. Предлагается новый алгоритм, который позволяет улучшить качество изображений и сократить время обработки.\"\n",
    "\n",
    "# Преобразование нового текста в вектор признаков\n",
    "new_vector = vectorizer.transform([new_text])\n",
    "\n",
    "# Получение предсказания рубрики ГРНТИ\n",
    "predicted_grnti = model.predict(new_vector)\n",
    "\n",
    "print(\"Предсказанная рубрика ГРНТИ:\", predicted_grnti)"
   ]
  }
 ],
 "metadata": {
  "kernelspec": {
   "display_name": "Python 3 (ipykernel)",
   "language": "python",
   "name": "python3"
  },
  "language_info": {
   "codemirror_mode": {
    "name": "ipython",
    "version": 3
   },
   "file_extension": ".py",
   "mimetype": "text/x-python",
   "name": "python",
   "nbconvert_exporter": "python",
   "pygments_lexer": "ipython3",
   "version": "3.11.7"
  }
 },
 "nbformat": 4,
 "nbformat_minor": 5
}
