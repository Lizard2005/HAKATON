{
 "cells": [
  {
   "cell_type": "code",
   "execution_count": null,
   "id": "ca2ce3bb-d484-4266-b21d-bf1293e1eb0e",
   "metadata": {},
   "outputs": [],
   "source": [
    "from sklearn.model_selection import GridSearchCV\n",
    "from sklearn.pipeline import make_pipeline\n",
    "from sklearn.feature_extraction.text import TfidfVectorizer\n",
    "from sklearn.linear_model import SGDClassifier\n",
    "\n",
    "# Подготовка пайплайна\n",
    "pipeline = make_pipeline(TfidfVectorizer(tokenizer=lambda x: tokenize_sentence(x, remove_stop_words=True)),\n",
    "                         SGDClassifier())\n",
    "\n",
    "# Параметры для GridSearchCV\n",
    "param_grid = {\n",
    "    'sgdclassifier__alpha': [0.0001, 0.001, 0.01],\n",
    "    'sgdclassifier__penalty': ['l2', 'l1', 'elasticnet'],\n",
    "    'tfidfvectorizer__ngram_range': [(1, 1), (1, 2)],\n",
    "    'tfidfvectorizer__use_idf': [True, False]\n",
    "}\n",
    "\n",
    "grid_search = GridSearchCV(pipeline, param_grid, cv=5, scoring='accuracy')\n",
    "grid_search.fit(train_df['text_data'], df['ГРНТИ'])\n",
    "\n",
    "# Обучение лучшей модели\n",
    "best_model = grid_search.best_estimator_\n",
    "X_train, X_test, y_train, y_test = train_test_split(X, y, test_size=0.25)\n",
    "best_model.fit(X_train, y_train)\n",
    "y_pred = best_model.predict(X_test)\n",
    "\n",
    "# Оценка\n",
    "accuracy = accuracy_score(y_test, y_pred)\n",
    "print('Точность:', accuracy)\n",
    "\n",
    "# Повторный код для нового текста здесь...\n"
   ]
  }
 ],
 "metadata": {
  "kernelspec": {
   "display_name": "Python 3 (ipykernel)",
   "language": "python",
   "name": "python3"
  },
  "language_info": {
   "codemirror_mode": {
    "name": "ipython",
    "version": 3
   },
   "file_extension": ".py",
   "mimetype": "text/x-python",
   "name": "python",
   "nbconvert_exporter": "python",
   "pygments_lexer": "ipython3",
   "version": "3.11.7"
  }
 },
 "nbformat": 4,
 "nbformat_minor": 5
}
