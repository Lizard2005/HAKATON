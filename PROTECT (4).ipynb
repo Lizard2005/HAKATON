{
 "cells": [
  {
   "cell_type": "code",
   "execution_count": 1,
   "id": "69e86602-412d-4934-bec1-76f5df334eb7",
   "metadata": {},
   "outputs": [
    {
     "name": "stderr",
     "output_type": "stream",
     "text": [
      "[nltk_data] Downloading package punkt to\n",
      "[nltk_data]     C:\\Users\\sunny\\AppData\\Roaming\\nltk_data...\n",
      "[nltk_data]   Package punkt is already up-to-date!\n"
     ]
    }
   ],
   "source": [
    "import pandas as pd\n",
    "import multiprocessing\n",
    "pd.set_option('display.max_colwidth', None)\n",
    "import re\n",
    "import os\n",
    "os.chdir(r'D:\\Хакатон')\n",
    "import nltk\n",
    "import string\n",
    "from nltk.corpus import stopwords\n",
    "from nltk.tokenize import word_tokenize\n",
    "from nltk.stem import SnowballStemmer\n",
    "nltk.download('punkt')\n",
    "from sklearn.pipeline import Pipeline\n",
    "from sklearn.linear_model import LogisticRegression\n",
    "from sklearn.feature_extraction.text import TfidfVectorizer\n",
    "from sklearn.metrics import precision_score, recall_score, precision_recall_curve\n",
    "from matplotlib import pyplot as plt\n",
    "import numpy as np\n",
    "from sklearn.model_selection import GridSearchCV\n",
    "from sklearn.model_selection import train_test_split\n",
    "from sklearn.metrics import accuracy_score\n",
    "from sklearn.linear_model import SGDClassifier\n",
    "from sklearn.linear_model import LinearRegression"
   ]
  },
  {
   "cell_type": "code",
   "execution_count": 2,
   "id": "18d61b37-a129-4fe5-ae0e-0c31bcdfe7f8",
   "metadata": {},
   "outputs": [],
   "source": [
    "df = pd.read_excel(\"ИКРБС_2020-2024_гг..xlsx\")"
   ]
  },
  {
   "cell_type": "code",
   "execution_count": 3,
   "id": "812c744a-7ba5-4436-81ad-ff62d6e13fee",
   "metadata": {},
   "outputs": [],
   "source": [
    "df.fillna('Отсутствует', inplace=True)"
   ]
  },
  {
   "cell_type": "code",
   "execution_count": 4,
   "id": "91e65c31-abb8-46cb-9ace-8a518e64dd07",
   "metadata": {},
   "outputs": [],
   "source": [
    "df.drop([\"№ п/п\", \"Регистрационный номер\"],axis=1,inplace=True)"
   ]
  },
  {
   "cell_type": "code",
   "execution_count": 5,
   "id": "32bf3e2f-74da-4ebb-b63c-6d202ebe6607",
   "metadata": {},
   "outputs": [],
   "source": [
    "df['text_data'] = df['Наименование отчёта'] + ' ' + df['Реферативное описание отчета'] + ' ' + df['Ключевые слова']\n",
    "\n"
   ]
  },
  {
   "cell_type": "code",
   "execution_count": 6,
   "id": "b56ba5c2-0478-44a1-a526-be7f54f93caa",
   "metadata": {},
   "outputs": [],
   "source": [
    "df = df.drop_duplicates()"
   ]
  },
  {
   "cell_type": "code",
   "execution_count": 7,
   "id": "d957cfe2-3955-4e6f-837c-844c60cec555",
   "metadata": {},
   "outputs": [],
   "source": [
    "df = df.sample(frac=0.1)\n"
   ]
  },
  {
   "cell_type": "code",
   "execution_count": 8,
   "id": "7477af2c-bfd5-4296-a8d4-2ae28530caea",
   "metadata": {},
   "outputs": [],
   "source": [
    "sentence_example = df.iloc[1][\"text_data\"]\n",
    "tokens = word_tokenize(sentence_example, language=\"russian\")\n",
    "tokens_without_punctuation = [i for i in tokens if i not in string.punctuation]\n",
    "russian_stop_words = stopwords.words(\"russian\")\n",
    "tokens_without_stop_words_and_punctuation = [i for i in tokens_without_punctuation if i not in russian_stop_words]\n",
    "snowball = SnowballStemmer(language=\"russian\")\n",
    "stemmed_tokens = [snowball.stem(i) for i in tokens_without_stop_words_and_punctuation]\n"
   ]
  },
  {
   "cell_type": "code",
   "execution_count": 9,
   "id": "66213934-a66c-4a81-83cf-ec445a446f6f",
   "metadata": {},
   "outputs": [
    {
     "name": "stdout",
     "output_type": "stream",
     "text": [
      "Исходный текст: Религиозные системы Востока: традиции и современность На данном этапе НИР были проведены исследования по исламу, буддизму, религиям Китая, Индии и стран Юго-Восточной Азии. Были затронуты вопросы как теоретического характера, так и конкретные исторические проблемы и тексты. Хронологические рамки исследований варьируются от древности до современности.  Результаты исследований данного этапа НИР были опубликованы в виде статей и тезисов (66 публикаций), из них 5 в журналах, входящих в базу  RSCI Web of Science, пять - Scopus, 13 в журналах из списка ВАК, 15 - РИНЦ. Было опубликовано 4 монографии, из них 1 индивидуальная, 3 - коллективных. Полученные результаты также были представлены в виде 34 докладов на российских и международных научных конференциях. Полученные результаты могут быть использованы при изучении истории стран Азии, при подготовке учебных курсов для историков, философов, регионоведов и религиоведов, а также при выработке государственной политики как в отношении религии, так и в отношении отдельных стран и регионов. христианство; иудаизм; конфуцианство; соотношение религии и политики; ислам; буддизм; религии Востока; религиозный экстремизм; индуизм; синтоизм\n",
      "-----------------\n",
      "Токены: ['Религиозные', 'системы', 'Востока', ':', 'традиции', 'и', 'современность', 'На', 'данном', 'этапе', 'НИР', 'были', 'проведены', 'исследования', 'по', 'исламу', ',', 'буддизму', ',', 'религиям', 'Китая', ',', 'Индии', 'и', 'стран', 'Юго-Восточной', 'Азии', '.', 'Были', 'затронуты', 'вопросы', 'как', 'теоретического', 'характера', ',', 'так', 'и', 'конкретные', 'исторические', 'проблемы', 'и', 'тексты', '.', 'Хронологические', 'рамки', 'исследований', 'варьируются', 'от', 'древности', 'до', 'современности', '.', 'Результаты', 'исследований', 'данного', 'этапа', 'НИР', 'были', 'опубликованы', 'в', 'виде', 'статей', 'и', 'тезисов', '(', '66', 'публикаций', ')', ',', 'из', 'них', '5', 'в', 'журналах', ',', 'входящих', 'в', 'базу', 'RSCI', 'Web', 'of', 'Science', ',', 'пять', '-', 'Scopus', ',', '13', 'в', 'журналах', 'из', 'списка', 'ВАК', ',', '15', '-', 'РИНЦ', '.', 'Было', 'опубликовано', '4', 'монографии', ',', 'из', 'них', '1', 'индивидуальная', ',', '3', '-', 'коллективных', '.', 'Полученные', 'результаты', 'также', 'были', 'представлены', 'в', 'виде', '34', 'докладов', 'на', 'российских', 'и', 'международных', 'научных', 'конференциях', '.', 'Полученные', 'результаты', 'могут', 'быть', 'использованы', 'при', 'изучении', 'истории', 'стран', 'Азии', ',', 'при', 'подготовке', 'учебных', 'курсов', 'для', 'историков', ',', 'философов', ',', 'регионоведов', 'и', 'религиоведов', ',', 'а', 'также', 'при', 'выработке', 'государственной', 'политики', 'как', 'в', 'отношении', 'религии', ',', 'так', 'и', 'в', 'отношении', 'отдельных', 'стран', 'и', 'регионов', '.', 'христианство', ';', 'иудаизм', ';', 'конфуцианство', ';', 'соотношение', 'религии', 'и', 'политики', ';', 'ислам', ';', 'буддизм', ';', 'религии', 'Востока', ';', 'религиозный', 'экстремизм', ';', 'индуизм', ';', 'синтоизм']\n",
      "-----------------\n",
      "Токены без пунктуации: ['Религиозные', 'системы', 'Востока', 'традиции', 'и', 'современность', 'На', 'данном', 'этапе', 'НИР', 'были', 'проведены', 'исследования', 'по', 'исламу', 'буддизму', 'религиям', 'Китая', 'Индии', 'и', 'стран', 'Юго-Восточной', 'Азии', 'Были', 'затронуты', 'вопросы', 'как', 'теоретического', 'характера', 'так', 'и', 'конкретные', 'исторические', 'проблемы', 'и', 'тексты', 'Хронологические', 'рамки', 'исследований', 'варьируются', 'от', 'древности', 'до', 'современности', 'Результаты', 'исследований', 'данного', 'этапа', 'НИР', 'были', 'опубликованы', 'в', 'виде', 'статей', 'и', 'тезисов', '66', 'публикаций', 'из', 'них', '5', 'в', 'журналах', 'входящих', 'в', 'базу', 'RSCI', 'Web', 'of', 'Science', 'пять', 'Scopus', '13', 'в', 'журналах', 'из', 'списка', 'ВАК', '15', 'РИНЦ', 'Было', 'опубликовано', '4', 'монографии', 'из', 'них', '1', 'индивидуальная', '3', 'коллективных', 'Полученные', 'результаты', 'также', 'были', 'представлены', 'в', 'виде', '34', 'докладов', 'на', 'российских', 'и', 'международных', 'научных', 'конференциях', 'Полученные', 'результаты', 'могут', 'быть', 'использованы', 'при', 'изучении', 'истории', 'стран', 'Азии', 'при', 'подготовке', 'учебных', 'курсов', 'для', 'историков', 'философов', 'регионоведов', 'и', 'религиоведов', 'а', 'также', 'при', 'выработке', 'государственной', 'политики', 'как', 'в', 'отношении', 'религии', 'так', 'и', 'в', 'отношении', 'отдельных', 'стран', 'и', 'регионов', 'христианство', 'иудаизм', 'конфуцианство', 'соотношение', 'религии', 'и', 'политики', 'ислам', 'буддизм', 'религии', 'Востока', 'религиозный', 'экстремизм', 'индуизм', 'синтоизм']\n",
      "-----------------\n",
      "Токены без пунктуации и стоп слов: ['Религиозные', 'системы', 'Востока', 'традиции', 'современность', 'На', 'данном', 'этапе', 'НИР', 'проведены', 'исследования', 'исламу', 'буддизму', 'религиям', 'Китая', 'Индии', 'стран', 'Юго-Восточной', 'Азии', 'Были', 'затронуты', 'вопросы', 'теоретического', 'характера', 'конкретные', 'исторические', 'проблемы', 'тексты', 'Хронологические', 'рамки', 'исследований', 'варьируются', 'древности', 'современности', 'Результаты', 'исследований', 'данного', 'этапа', 'НИР', 'опубликованы', 'виде', 'статей', 'тезисов', '66', 'публикаций', '5', 'журналах', 'входящих', 'базу', 'RSCI', 'Web', 'of', 'Science', 'пять', 'Scopus', '13', 'журналах', 'списка', 'ВАК', '15', 'РИНЦ', 'Было', 'опубликовано', '4', 'монографии', '1', 'индивидуальная', '3', 'коллективных', 'Полученные', 'результаты', 'также', 'представлены', 'виде', '34', 'докладов', 'российских', 'международных', 'научных', 'конференциях', 'Полученные', 'результаты', 'могут', 'использованы', 'изучении', 'истории', 'стран', 'Азии', 'подготовке', 'учебных', 'курсов', 'историков', 'философов', 'регионоведов', 'религиоведов', 'также', 'выработке', 'государственной', 'политики', 'отношении', 'религии', 'отношении', 'отдельных', 'стран', 'регионов', 'христианство', 'иудаизм', 'конфуцианство', 'соотношение', 'религии', 'политики', 'ислам', 'буддизм', 'религии', 'Востока', 'религиозный', 'экстремизм', 'индуизм', 'синтоизм']\n",
      "-----------------\n",
      "Токены после стемминга: ['религиозн', 'систем', 'восток', 'традиц', 'современ', 'на', 'дан', 'этап', 'нир', 'провед', 'исследован', 'ислам', 'буддизм', 'религ', 'кит', 'инд', 'стран', 'юго-восточн', 'аз', 'был', 'затронут', 'вопрос', 'теоретическ', 'характер', 'конкретн', 'историческ', 'проблем', 'текст', 'хронологическ', 'рамк', 'исследован', 'варьир', 'древност', 'современ', 'результат', 'исследован', 'дан', 'этап', 'нир', 'опубликова', 'вид', 'стат', 'тезис', '66', 'публикац', '5', 'журнал', 'входя', 'баз', 'RSCI', 'Web', 'of', 'Science', 'пят', 'Scopus', '13', 'журнал', 'списк', 'вак', '15', 'ринц', 'был', 'опубликова', '4', 'монограф', '1', 'индивидуальн', '3', 'коллективн', 'получен', 'результат', 'такж', 'представл', 'вид', '34', 'доклад', 'российск', 'международн', 'научн', 'конференц', 'получен', 'результат', 'могут', 'использова', 'изучен', 'истор', 'стран', 'аз', 'подготовк', 'учебн', 'курс', 'историк', 'философ', 'регионовед', 'религиовед', 'такж', 'выработк', 'государствен', 'политик', 'отношен', 'религ', 'отношен', 'отдельн', 'стран', 'регион', 'христианств', 'иудаизм', 'конфуцианств', 'соотношен', 'религ', 'политик', 'исл', 'буддизм', 'религ', 'восток', 'религиозн', 'экстремизм', 'индуизм', 'синтоизм']\n",
      "-----------------\n"
     ]
    }
   ],
   "source": [
    "print(f\"Исходный текст: {sentence_example}\")\n",
    "print(\"-----------------\")\n",
    "print(f\"Токены: {tokens}\")\n",
    "print(\"-----------------\")\n",
    "print(f\"Токены без пунктуации: {tokens_without_punctuation}\")\n",
    "print(\"-----------------\")\n",
    "print(f\"Токены без пунктуации и стоп слов: {tokens_without_stop_words_and_punctuation}\")\n",
    "print(\"-----------------\")\n",
    "print(f\"Токены после стемминга: {stemmed_tokens}\")\n",
    "print(\"-----------------\")"
   ]
  },
  {
   "cell_type": "code",
   "execution_count": 10,
   "id": "6ac861a3-59ae-4fad-91ad-e90e38ced950",
   "metadata": {},
   "outputs": [],
   "source": [
    "snowball = SnowballStemmer(language=\"russian\")\n",
    "russian_stop_words = stopwords.words(\"russian\")\n",
    "\n",
    "def tokenize_sentence(sentence: str, remove_stop_words: bool = True):\n",
    "    tokens = word_tokenize(sentence, language=\"russian\")\n",
    "    tokens = [i for i in tokens if i not in string.punctuation]\n",
    "    if remove_stop_words:\n",
    "        tokens = [i for i in tokens if i not in russian_stop_words]\n",
    "    tokens = [snowball.stem(i) for i in tokens]\n",
    "    return tokens"
   ]
  },
  {
   "cell_type": "code",
   "execution_count": 11,
   "id": "8ad5ea0e-c603-4705-9fbc-b3443be7d92d",
   "metadata": {},
   "outputs": [
    {
     "data": {
      "text/plain": [
       "['религиозн',\n",
       " 'систем',\n",
       " 'восток',\n",
       " 'традиц',\n",
       " 'современ',\n",
       " 'на',\n",
       " 'дан',\n",
       " 'этап',\n",
       " 'нир',\n",
       " 'провед',\n",
       " 'исследован',\n",
       " 'ислам',\n",
       " 'буддизм',\n",
       " 'религ',\n",
       " 'кит',\n",
       " 'инд',\n",
       " 'стран',\n",
       " 'юго-восточн',\n",
       " 'аз',\n",
       " 'был',\n",
       " 'затронут',\n",
       " 'вопрос',\n",
       " 'теоретическ',\n",
       " 'характер',\n",
       " 'конкретн',\n",
       " 'историческ',\n",
       " 'проблем',\n",
       " 'текст',\n",
       " 'хронологическ',\n",
       " 'рамк',\n",
       " 'исследован',\n",
       " 'варьир',\n",
       " 'древност',\n",
       " 'современ',\n",
       " 'результат',\n",
       " 'исследован',\n",
       " 'дан',\n",
       " 'этап',\n",
       " 'нир',\n",
       " 'опубликова',\n",
       " 'вид',\n",
       " 'стат',\n",
       " 'тезис',\n",
       " '66',\n",
       " 'публикац',\n",
       " '5',\n",
       " 'журнал',\n",
       " 'входя',\n",
       " 'баз',\n",
       " 'RSCI',\n",
       " 'Web',\n",
       " 'of',\n",
       " 'Science',\n",
       " 'пят',\n",
       " 'Scopus',\n",
       " '13',\n",
       " 'журнал',\n",
       " 'списк',\n",
       " 'вак',\n",
       " '15',\n",
       " 'ринц',\n",
       " 'был',\n",
       " 'опубликова',\n",
       " '4',\n",
       " 'монограф',\n",
       " '1',\n",
       " 'индивидуальн',\n",
       " '3',\n",
       " 'коллективн',\n",
       " 'получен',\n",
       " 'результат',\n",
       " 'такж',\n",
       " 'представл',\n",
       " 'вид',\n",
       " '34',\n",
       " 'доклад',\n",
       " 'российск',\n",
       " 'международн',\n",
       " 'научн',\n",
       " 'конференц',\n",
       " 'получен',\n",
       " 'результат',\n",
       " 'могут',\n",
       " 'использова',\n",
       " 'изучен',\n",
       " 'истор',\n",
       " 'стран',\n",
       " 'аз',\n",
       " 'подготовк',\n",
       " 'учебн',\n",
       " 'курс',\n",
       " 'историк',\n",
       " 'философ',\n",
       " 'регионовед',\n",
       " 'религиовед',\n",
       " 'такж',\n",
       " 'выработк',\n",
       " 'государствен',\n",
       " 'политик',\n",
       " 'отношен',\n",
       " 'религ',\n",
       " 'отношен',\n",
       " 'отдельн',\n",
       " 'стран',\n",
       " 'регион',\n",
       " 'христианств',\n",
       " 'иудаизм',\n",
       " 'конфуцианств',\n",
       " 'соотношен',\n",
       " 'религ',\n",
       " 'политик',\n",
       " 'исл',\n",
       " 'буддизм',\n",
       " 'религ',\n",
       " 'восток',\n",
       " 'религиозн',\n",
       " 'экстремизм',\n",
       " 'индуизм',\n",
       " 'синтоизм']"
      ]
     },
     "execution_count": 11,
     "metadata": {},
     "output_type": "execute_result"
    }
   ],
   "source": [
    "tokenize_sentence(sentence_example)"
   ]
  },
  {
   "cell_type": "code",
   "execution_count": 12,
   "id": "ff04b890-90c0-442d-9b86-6d31103e63c0",
   "metadata": {},
   "outputs": [],
   "source": [
    "vectorizer = TfidfVectorizer(max_features=5000)\n",
    "X = vectorizer.fit_transform(df['text_data'].values.astype('U'))"
   ]
  },
  {
   "cell_type": "code",
   "execution_count": 13,
   "id": "b533ad9c-6f0a-4750-882a-bf3184d6bb2b",
   "metadata": {},
   "outputs": [],
   "source": [
    "y = df['ГРНТИ']"
   ]
  },
  {
   "cell_type": "code",
   "execution_count": 14,
   "id": "49c8e21f-398e-4761-a998-1c985bb76e79",
   "metadata": {},
   "outputs": [],
   "source": [
    "X_train, X_test, y_train, y_test = train_test_split(X, y, test_size=0.20, random_state=0)"
   ]
  },
  {
   "cell_type": "code",
   "execution_count": 15,
   "id": "0e290749-e500-452e-81e2-1149139dda35",
   "metadata": {},
   "outputs": [
    {
     "data": {
      "text/html": [
       "<style>#sk-container-id-1 {color: black;background-color: white;}#sk-container-id-1 pre{padding: 0;}#sk-container-id-1 div.sk-toggleable {background-color: white;}#sk-container-id-1 label.sk-toggleable__label {cursor: pointer;display: block;width: 100%;margin-bottom: 0;padding: 0.3em;box-sizing: border-box;text-align: center;}#sk-container-id-1 label.sk-toggleable__label-arrow:before {content: \"▸\";float: left;margin-right: 0.25em;color: #696969;}#sk-container-id-1 label.sk-toggleable__label-arrow:hover:before {color: black;}#sk-container-id-1 div.sk-estimator:hover label.sk-toggleable__label-arrow:before {color: black;}#sk-container-id-1 div.sk-toggleable__content {max-height: 0;max-width: 0;overflow: hidden;text-align: left;background-color: #f0f8ff;}#sk-container-id-1 div.sk-toggleable__content pre {margin: 0.2em;color: black;border-radius: 0.25em;background-color: #f0f8ff;}#sk-container-id-1 input.sk-toggleable__control:checked~div.sk-toggleable__content {max-height: 200px;max-width: 100%;overflow: auto;}#sk-container-id-1 input.sk-toggleable__control:checked~label.sk-toggleable__label-arrow:before {content: \"▾\";}#sk-container-id-1 div.sk-estimator input.sk-toggleable__control:checked~label.sk-toggleable__label {background-color: #d4ebff;}#sk-container-id-1 div.sk-label input.sk-toggleable__control:checked~label.sk-toggleable__label {background-color: #d4ebff;}#sk-container-id-1 input.sk-hidden--visually {border: 0;clip: rect(1px 1px 1px 1px);clip: rect(1px, 1px, 1px, 1px);height: 1px;margin: -1px;overflow: hidden;padding: 0;position: absolute;width: 1px;}#sk-container-id-1 div.sk-estimator {font-family: monospace;background-color: #f0f8ff;border: 1px dotted black;border-radius: 0.25em;box-sizing: border-box;margin-bottom: 0.5em;}#sk-container-id-1 div.sk-estimator:hover {background-color: #d4ebff;}#sk-container-id-1 div.sk-parallel-item::after {content: \"\";width: 100%;border-bottom: 1px solid gray;flex-grow: 1;}#sk-container-id-1 div.sk-label:hover label.sk-toggleable__label {background-color: #d4ebff;}#sk-container-id-1 div.sk-serial::before {content: \"\";position: absolute;border-left: 1px solid gray;box-sizing: border-box;top: 0;bottom: 0;left: 50%;z-index: 0;}#sk-container-id-1 div.sk-serial {display: flex;flex-direction: column;align-items: center;background-color: white;padding-right: 0.2em;padding-left: 0.2em;position: relative;}#sk-container-id-1 div.sk-item {position: relative;z-index: 1;}#sk-container-id-1 div.sk-parallel {display: flex;align-items: stretch;justify-content: center;background-color: white;position: relative;}#sk-container-id-1 div.sk-item::before, #sk-container-id-1 div.sk-parallel-item::before {content: \"\";position: absolute;border-left: 1px solid gray;box-sizing: border-box;top: 0;bottom: 0;left: 50%;z-index: -1;}#sk-container-id-1 div.sk-parallel-item {display: flex;flex-direction: column;z-index: 1;position: relative;background-color: white;}#sk-container-id-1 div.sk-parallel-item:first-child::after {align-self: flex-end;width: 50%;}#sk-container-id-1 div.sk-parallel-item:last-child::after {align-self: flex-start;width: 50%;}#sk-container-id-1 div.sk-parallel-item:only-child::after {width: 0;}#sk-container-id-1 div.sk-dashed-wrapped {border: 1px dashed gray;margin: 0 0.4em 0.5em 0.4em;box-sizing: border-box;padding-bottom: 0.4em;background-color: white;}#sk-container-id-1 div.sk-label label {font-family: monospace;font-weight: bold;display: inline-block;line-height: 1.2em;}#sk-container-id-1 div.sk-label-container {text-align: center;}#sk-container-id-1 div.sk-container {/* jupyter's `normalize.less` sets `[hidden] { display: none; }` but bootstrap.min.css set `[hidden] { display: none !important; }` so we also need the `!important` here to be able to override the default hidden behavior on the sphinx rendered scikit-learn.org. See: https://github.com/scikit-learn/scikit-learn/issues/21755 */display: inline-block !important;position: relative;}#sk-container-id-1 div.sk-text-repr-fallback {display: none;}</style><div id=\"sk-container-id-1\" class=\"sk-top-container\"><div class=\"sk-text-repr-fallback\"><pre>SGDClassifier(max_iter=10000)</pre><b>In a Jupyter environment, please rerun this cell to show the HTML representation or trust the notebook. <br />On GitHub, the HTML representation is unable to render, please try loading this page with nbviewer.org.</b></div><div class=\"sk-container\" hidden><div class=\"sk-item\"><div class=\"sk-estimator sk-toggleable\"><input class=\"sk-toggleable__control sk-hidden--visually\" id=\"sk-estimator-id-1\" type=\"checkbox\" checked><label for=\"sk-estimator-id-1\" class=\"sk-toggleable__label sk-toggleable__label-arrow\">SGDClassifier</label><div class=\"sk-toggleable__content\"><pre>SGDClassifier(max_iter=10000)</pre></div></div></div></div></div>"
      ],
      "text/plain": [
       "SGDClassifier(max_iter=10000)"
      ]
     },
     "execution_count": 15,
     "metadata": {},
     "output_type": "execute_result"
    }
   ],
   "source": [
    "model = SGDClassifier(max_iter=10000) \n",
    "model.fit(X_train, y_train)"
   ]
  },
  {
   "cell_type": "code",
   "execution_count": 16,
   "id": "6f9f0757-ba70-4156-9d28-ce4a366efcc2",
   "metadata": {},
   "outputs": [],
   "source": [
    "y_pred = model.predict(X_test)"
   ]
  },
  {
   "cell_type": "code",
   "execution_count": 17,
   "id": "124eb2b1-9c38-4850-b86a-755e5940e64d",
   "metadata": {},
   "outputs": [
    {
     "name": "stdout",
     "output_type": "stream",
     "text": [
      "Точность: 0.11865443425076452\n"
     ]
    }
   ],
   "source": [
    "\n",
    "accuracy = accuracy_score(y_test, y_pred)\n",
    "print('Точность:', accuracy)"
   ]
  },
  {
   "cell_type": "code",
   "execution_count": 18,
   "id": "43e90816-e21b-4f95-9b92-2aef118780c3",
   "metadata": {},
   "outputs": [
    {
     "name": "stdout",
     "output_type": "stream",
     "text": [
      "Предсказанная рубрика ГРНТИ: ['83.33.23: Статистика потребления населением материальных благ и услуг; 83.33.29: Статистика заработной платы; 83.33.41: Статистика социального обеспечения']\n"
     ]
    }
   ],
   "source": [
    "# Новый текст\n",
    "new_text = \"электроника\"\n",
    "\n",
    "# Преобразование нового текста в вектор признаков\n",
    "new_vector = vectorizer.transform([new_text])\n",
    "\n",
    "# Получение предсказания рубрики ГРНТИ\n",
    "predicted_grnti = model.predict(new_vector)\n",
    "\n",
    "print(\"Предсказанная рубрика ГРНТИ:\", predicted_grnti)"
   ]
  },
  {
   "cell_type": "code",
   "execution_count": null,
   "id": "75a6ee08-92e1-4b3b-8867-0535619f493c",
   "metadata": {},
   "outputs": [],
   "source": []
  },
  {
   "cell_type": "code",
   "execution_count": null,
   "id": "a8dfcc71-9eeb-41ad-8c14-93fdec88d589",
   "metadata": {},
   "outputs": [],
   "source": []
  },
  {
   "cell_type": "code",
   "execution_count": null,
   "id": "2626fd19-9e83-491f-914f-a34e89756917",
   "metadata": {},
   "outputs": [],
   "source": []
  }
 ],
 "metadata": {
  "kernelspec": {
   "display_name": "Python 3 (ipykernel)",
   "language": "python",
   "name": "python3"
  },
  "language_info": {
   "codemirror_mode": {
    "name": "ipython",
    "version": 3
   },
   "file_extension": ".py",
   "mimetype": "text/x-python",
   "name": "python",
   "nbconvert_exporter": "python",
   "pygments_lexer": "ipython3",
   "version": "3.11.7"
  }
 },
 "nbformat": 4,
 "nbformat_minor": 5
}
